{
 "cells": [
  {
   "cell_type": "markdown",
   "metadata": {},
   "source": [
    "# Wprowadzenie do języka C# i platformy .NET\n",
    "\n",
    "W klasycznym programie napisanym w języku C#, który wypisuje tekst `Hello, world!` kod wyglądałby następująco:"
   ]
  },
  {
   "cell_type": "code",
   "execution_count": null,
   "metadata": {
    "dotnet_interactive": {
     "language": "csharp"
    }
   },
   "outputs": [],
   "source": [
    "using System;\n",
    "\n",
    "namespace Hello\n",
    "{\n",
    "    class Program\n",
    "    {\n",
    "        static void Main()\n",
    "        {\n",
    "            Console.WriteLine(\"Hello, world!\");\n",
    "        }\n",
    "    }\n",
    "}"
   ]
  },
  {
   "cell_type": "markdown",
   "metadata": {},
   "source": [
    "Bloki kodu znajdują się w miedzy klamrami `{}`, podobnie jak ma to miejsce w języku C++/Java. Chyba, że blok dotyczy tylko jednej linijki np. w instrukcji warunkowej, wtedy nawiasy klamrowe można pominąć. Średnik kończy instrukcję, co pozwala umieszczać w jednej linii ciąg instrukcji. Klasa **`Console`**, która zawiera funkcję `WriteLine`, która wypisuje na standardowe wyjście zadany tekst znajduje się w przestrzeni nazw **`System`**. Moduły importujemy na początku kompilowanego pliku. Następnie definiujemy nową przestrzeń nazw **`Hello`**. Następnie zdefiniowana zostaje klasa **`Program`** oraz statyczna funkcja **`Main`** (gwarantuje to tylko jej instancje w ramach programu bez względu na liczbę instancji klas **`Program`**). Więcej o typach statycznych znajduje się w laboratorium związanym z programowaniem obiektowym w języku C#. Poniżej znajduje trywialny przykład użycia `.NET Interactive` oraz pakietu `Jupyter Notebook` do uruchomienia tego samego kodu. "
   ]
  },
  {
   "cell_type": "code",
   "execution_count": null,
   "metadata": {
    "collapsed": false,
    "dotnet_interactive": {
     "language": "csharp"
    },
    "pycharm": {
     "name": "#%%\n"
    }
   },
   "outputs": [
    {
     "name": "stdout",
     "output_type": "stream",
     "text": [
      "Hello, world!\r\n"
     ]
    }
   ],
   "source": [
    "Console.WriteLine(\"Hello, world!\")"
   ]
  },
  {
   "cell_type": "markdown",
   "metadata": {
    "collapsed": false,
    "pycharm": {
     "name": "#%% md\n"
    }
   },
   "source": [
    "## Typy danych\n",
    "\n",
    "W języku typy danych można definiować własne typu danych lub użyć istniejących - wbudowanych typów.\n",
    "\n",
    "## Typy numeryczne i logiczne\n",
    "\n",
    "|Nazwa typu|Nazwa `CLR` (pełna z **`namespace`**)|Ze znakiem|Rozmiar|Zakres|\n",
    "|:-|:-:|:-:|:-:|:-:|\n",
    "**`byte`** | **`System.Byte`**  | Nie | 8 | 0 do 255 |\n",
    "**`sbyte`** | **`System.SByte`** | Tak | 8 | −128 do 127 |\n",
    "**`ushort`** | **`System.UInt16`** | Nie | 16 | 0 do 65,535 |\n",
    "**`short`** | **`System.Int16`** | Tak | 16 | −32,768 do 32,767 |\n",
    "**`uint`** | **`System.UInt32`** | Nie | 32 | 0 do 4,294,967,295 |\n",
    "**`int`** | **`System.Int32`** | Tak | 32 | −2,147,483,648 do 2,147,483,647 |\n",
    "**`ulong`** | **`System.UInt64`** | Nie | 64 | 0 do 18,446,744,073,709,551,615 |\n",
    "**`long`** | **`System.Int64`** | Tak | 64 | −9,223,372,036,854,775,808 do 9,223,372,036,854,775,807 |\n",
    "**`float`** | **`System.Single`** | Tak |32 ale 23 bity (~7 cyfr dziesiętnych) | 1.5×10−45 do 3.4×1038 |\n",
    "**`double`** | **`System.Double`** | Tak | 64 ale 52 bity (~15 cyfr dziesiętnych) | 5.0×10−324 do 1.7×10308 |\n",
    "**`bool`** | **`System.Boolean`** | Nie | 32 | **`true`** lub **`false`** | \n",
    "\n",
    "Powyższe typu to `value type`, co oznacza w praktyce, że przypisanie jeden zmiennej przechowującej ten typu kopiuje zawartość do drugiej zmiennej (po przypisaniu). Każda z tych wartości może być type **`nullable`** poprzez użycie:"
   ]
  },
  {
   "cell_type": "code",
   "execution_count": null,
   "metadata": {
    "dotnet_interactive": {
     "language": "csharp"
    }
   },
   "outputs": [
    {
     "name": "stdout",
     "output_type": "stream",
     "text": [
      "\r\n"
     ]
    }
   ],
   "source": [
    "int? value1 = null;\n",
    "Console.WriteLine(value1);"
   ]
  },
  {
   "cell_type": "markdown",
   "metadata": {},
   "source": [
    "Przypisując zmiennej konkretną wartość można użyć dodatkowych znaczników, wymuszając typ. Przykładowo, aby odróżnić typ `float` od `decimal` można użyć:"
   ]
  },
  {
   "cell_type": "code",
   "execution_count": null,
   "metadata": {
    "dotnet_interactive": {
     "language": "csharp"
    }
   },
   "outputs": [],
   "source": [
    "float float1 = 1f;\n",
    "float float2 = .5f;\n",
    "double double1 = 12.0;\n",
    "long long1 = 1L;"
   ]
  },
  {
   "cell_type": "markdown",
   "metadata": {},
   "source": [
    "Posługując się powyższą notacją można opuścić deklarowanie typu (każdego) i użyć słowa kluczowego **`var`**. Przykładowo:"
   ]
  },
  {
   "cell_type": "code",
   "execution_count": null,
   "metadata": {
    "dotnet_interactive": {
     "language": "csharp"
    }
   },
   "outputs": [],
   "source": [
    "var float1 = 1f;"
   ]
  },
  {
   "cell_type": "markdown",
   "metadata": {},
   "source": [
    "### Łańcuchu znaków\n",
    "\n",
    "Typ danych zawierający znaki z kodowania `UTF-16` (**`string`**). Pojedynczy znak to typ **`char`** (**`System.Char`**). Zawiera liczne przedefinowane operatory jak np. `+` (*konkatenacja*) i funkcje jak np. (`ToLower`). Język C# zawiera bardzo zaawansowany mechanizm formatowania łańcuchów znaków poprzez funkcje `string.format` lub interpolacje, która będzie używana na laboratorium:"
   ]
  },
  {
   "cell_type": "code",
   "execution_count": null,
   "metadata": {
    "dotnet_interactive": {
     "language": "csharp"
    }
   },
   "outputs": [
    {
     "name": "stdout",
     "output_type": "stream",
     "text": [
      "12,3\r\n"
     ]
    }
   ],
   "source": [
    "var float1 = 12.3456789f;\n",
    "Console.WriteLine($\"{float1:f1}\");"
   ]
  },
  {
   "cell_type": "markdown",
   "metadata": {},
   "source": [
    "Interpolacja zaczyna się znakiem dolara przed apostrofem rozpoczynającym łańcuch znaków. Następnie po dwukropku można dodawać opcjonalne parametry do konwersji typu na łańcuch znaków. W powyższym przykładzie została użyte zaokrąglenie do jednego miejsca po przecinku liczby. Innym znakiem sterującym, który może pojawić się przed apostrofem rozpoczynającym jest znak `@`, który oznacza łańcuch znaków wielo-linijkowy."
   ]
  },
  {
   "cell_type": "markdown",
   "metadata": {},
   "source": [
    "## Instrukcja wyboru\n",
    "\n",
    "Jedną z najbardziej elementarnych konstrukcji w każdym języku programowania są instrukcje warunkowe, co w języku C# przekłada się na mnogość i formę składni.\n",
    "\n",
    "### ***`if`***, ***`else if`*** oraz ***`else`***\n",
    "\n",
    "Klasyczny sposób organizacji kodu, który poprzez blok instrukcji pozwala sterować przepływem programu. Poniżej znajduje się przykład użycia wszystkich z nich, niemniej jednak tylko **`if`** jest wymagany."
   ]
  },
  {
   "cell_type": "code",
   "execution_count": null,
   "metadata": {
    "dotnet_interactive": {
     "language": "csharp"
    }
   },
   "outputs": [
    {
     "name": "stdout",
     "output_type": "stream",
     "text": [
      "More then 10 and less then 20: 12\r\n"
     ]
    }
   ],
   "source": [
    "var value = 12;\n",
    "\n",
    "if (value >= 0 && value < 9) {\n",
    "    Console.WriteLine($\"Digit: {value}\");\n",
    "} else if (value >= 10 && value < 20) {\n",
    "    Console.WriteLine($\"More then 10 and less then 20: {value}\");\n",
    "} else {\n",
    "    Console.WriteLine($\"Other: {value}\");\n",
    "}"
   ]
  },
  {
   "cell_type": "markdown",
   "metadata": {},
   "source": [
    "Wyrażenia logiczne wewnątrz instrukcji **`if`** mogą być bardziej zaawansowane i mogą zawierać liczne wystąpienia operatorów logicznych `&&` i `||` lub innych zawierających rzutowanie (konwersję typów) na typ **`Boolean`**. Dodatkowo możliwe jest użycie operatora **`is`** bezpośrednio w warunku. Konstrukcja taka jest bardzo pomocna do sprawdzania czy zmienna jest konkretnego typu lub nie jest pusta. Często operator stosuje się wraz z operatora **`as`**, który konwertuje zmienną jednego typu na drugi. W przypadku problemu z konwersją zwracany jest typu **`null`**."
   ]
  },
  {
   "cell_type": "code",
   "execution_count": null,
   "metadata": {
    "dotnet_interactive": {
     "language": "csharp"
    }
   },
   "outputs": [
    {
     "name": "stdout",
     "output_type": "stream",
     "text": [
      "Value: 12 is not null\r\n"
     ]
    }
   ],
   "source": [
    "int? value2 = 12;\n",
    "\n",
    "if (value2 is null) {\n",
    "    Console.WriteLine($\"Value: {value2} is null\");\n",
    "} else if (value2 is not null) {\n",
    "    Console.WriteLine($\"Value: {value2} is not null\");\n",
    "}"
   ]
  },
  {
   "cell_type": "markdown",
   "metadata": {},
   "source": [
    "Można również wewnątrz warunku przypisać zmienną, która będzie przechowywać wartość rzutowaną na konkretny typu, jedynie wtedy, gdy warunek jest spełniony. Ilustruje to poniższy przykład."
   ]
  },
  {
   "cell_type": "code",
   "execution_count": null,
   "metadata": {
    "dotnet_interactive": {
     "language": "csharp"
    }
   },
   "outputs": [
    {
     "name": "stdout",
     "output_type": "stream",
     "text": [
      "Value: 12 is not null\r\n"
     ]
    }
   ],
   "source": [
    "int? value2 = 12;\n",
    "\n",
    "if (value2 is int number) {\n",
    "    Console.WriteLine($\"Value: {number} is not null\");\n",
    "}"
   ]
  },
  {
   "cell_type": "markdown",
   "metadata": {},
   "source": [
    "Pozostałymi konstrukcjami, które mogą być użyte do sterowaniem przepływem programu jest trój-argumentowy operator `warunek ? instrukcja dla true : instrukcja dla false` oraz ***`switch`***.\n",
    "\n",
    "## Pętle\n",
    "\n",
    "W języku C# można użyć następujących pętli: **`for`**, **`foreach`**, **`while`** (ze słowem kluczowym **`while`** na początku lub na końcu). Poniżej znajduje się przykład użycia każdego z nich."
   ]
  },
  {
   "cell_type": "code",
   "execution_count": null,
   "metadata": {
    "dotnet_interactive": {
     "language": "csharp"
    }
   },
   "outputs": [
    {
     "name": "stdout",
     "output_type": "stream",
     "text": [
      "For loop demo\r\n",
      "Iteration: 0\r\n",
      "Iteration: 1\r\n",
      "Iteration: 2\r\n",
      "Foreach loop demo\r\n",
      "Iteration: 1\r\n",
      "Iteration: 2\r\n",
      "Iteration: 3\r\n",
      "Iteration: 4\r\n",
      "Iteration: 5\r\n",
      "While loop demo\r\n",
      "Iteration: 0\r\n",
      "Iteration: 1\r\n",
      "Iteration: 2\r\n",
      "While loop demo\r\n",
      "Iteration: 10\r\n"
     ]
    }
   ],
   "source": [
    "Console.WriteLine($\"For loop demo\");\n",
    "\n",
    "for (int i=0; i< 3; i++) { //deklaracja zmiennej i może być wewnątrz if lub wcześniej\n",
    "    Console.WriteLine($\"Iteration: {i}\");\n",
    "}\n",
    "\n",
    "Console.WriteLine($\"Foreach loop demo\");\n",
    "\n",
    "var data = new int[] { 1,2,3,4,5 };\n",
    "\n",
    "foreach (int i in data) { //może być wszystko co dziedziczy po IEnumerable\n",
    "    Console.WriteLine($\"Iteration: {i}\");\n",
    "}\n",
    "\n",
    "Console.WriteLine($\"While loop demo\");\n",
    "\n",
    "i = 0;\n",
    "\n",
    "while(i < 3) {\n",
    "    Console.WriteLine($\"Iteration: {i++}\");\n",
    "}\n",
    "\n",
    "Console.WriteLine($\"While loop demo\");\n",
    "\n",
    "i = 10;\n",
    "\n",
    "do {\n",
    "    Console.WriteLine($\"Iteration: {i++}\");\n",
    "}while(i < 3);"
   ]
  },
  {
   "cell_type": "markdown",
   "metadata": {},
   "source": [
    "### break i continue\n",
    "\n",
    "Obie wbudowane instrukcje służą do kontroli pętli wewnątrz bloku ich obsługi. Pozwala to nagłe przerwanie działanie pętli lub przejście do kolejnej iteracji bez dalszej realizacji kodu zawartego w bloku obsługi pętli."
   ]
  },
  {
   "cell_type": "code",
   "execution_count": null,
   "metadata": {
    "dotnet_interactive": {
     "language": "csharp"
    }
   },
   "outputs": [
    {
     "name": "stdout",
     "output_type": "stream",
     "text": [
      "Value of i 0\r\n",
      "Value of i 1\r\n",
      "Value of i 2\r\n",
      "Text only if > 3\r\n",
      "Value of i 3\r\n",
      "Text only if > 3\r\n",
      "Value of i 4\r\n",
      "Text only if > 3\r\n",
      "Value of i 5\r\n"
     ]
    }
   ],
   "source": [
    "int i = 0;\n",
    "while(true) {\n",
    "    Console.WriteLine($\"Value of i {i++}\");\n",
    "    if (i > 5) {\n",
    "        break;\n",
    "    }\n",
    "    if (i < 3) {\n",
    "        continue;      \n",
    "    }\n",
    "    \n",
    "    Console.WriteLine(\"Text only if > 3\");\n",
    "}\n",
    "\n",
    "for(;;) { //zamiast instrukcji while\n",
    "    break;\n",
    "}"
   ]
  },
  {
   "cell_type": "markdown",
   "metadata": {},
   "source": [
    "\n",
    "\n",
    "## Elementy języka strukturalnego\n",
    "\n",
    "### Tablice\n",
    "\n",
    "W języku C# istnieją tablice jednowymiarowe, wielowymiarowe i tablice nieregularne (ang. *jagged*). Te ostatnie realizowane są jako tablica zawierająca wskaźnik na tablicę. Poniżej znajduje się przykład użycia tablic:"
   ]
  },
  {
   "cell_type": "code",
   "execution_count": null,
   "metadata": {
    "collapsed": false,
    "dotnet_interactive": {
     "language": "csharp"
    },
    "pycharm": {
     "name": "#%%\n"
    }
   },
   "outputs": [],
   "source": [
    "int[] tab = new int[2]; //jednowymiarowa tablica\n",
    "tab[0] = 1;\n",
    "int[,] tab2 = new int[2,2];//wielowymiarowa\n",
    "tab2[0,0] = 1;\n",
    "int[][] tab3 = new int[2][];//nieregularna\n",
    "tab3[0] = new int[1];\n",
    "tab3[1] = new int[2];"
   ]
  },
  {
   "cell_type": "markdown",
   "metadata": {
    "collapsed": false
   },
   "source": [
    "Język umożliwia inicjalizację danych w miejscu ich tworzenia np.:"
   ]
  },
  {
   "cell_type": "code",
   "execution_count": null,
   "metadata": {
    "collapsed": false,
    "dotnet_interactive": {
     "language": "csharp"
    },
    "pycharm": {
     "name": "#%%\n"
    }
   },
   "outputs": [],
   "source": [
    "int[] tab = new [] {5,5}; //dwu elementowa tablica\n",
    "Console.WriteLine(tab[0]);//5\n",
    "int[,] tab2 = new [,] {{1,2},{3,4},{5,6}}; //wielowymiarowa\n",
    "Console.WriteLine(tab2[0,1]);//2\n",
    "int[][] tab3 = new int[][]\n",
    "{\n",
    "  new int[] { 1 },\n",
    "  new int[] { 2, 3 },\n",
    "  new int[] { 4, 5, 6 }\n",
    "};//irregular\n",
    "Console.WriteLine(tab3[1][1]);//3"
   ]
  },
  {
   "cell_type": "markdown",
   "metadata": {
    "collapsed": false
   },
   "source": [
    "## Operator `^` (ang. *hat*) oraz `...` (ang. *range*)\n",
    "\n",
    "W języku C# zaimplementowana dwa sposoby na czytelne przetwarzanie indeksów tabli. Poniżej zostały przedstawione przykłady użycia obu z nich."
   ]
  },
  {
   "cell_type": "code",
   "execution_count": null,
   "metadata": {
    "dotnet_interactive": {
     "language": "csharp"
    }
   },
   "outputs": [
    {
     "name": "stdout",
     "output_type": "stream",
     "text": [
      "people[0..4]\r\n",
      "Jane\r\n",
      "Jean\r\n",
      "Grey\r\n",
      "Marcus\r\n",
      "people[4..]\r\n",
      "Theophilus\r\n",
      "Keje\r\n",
      "people[^2..]\r\n",
      "Theophilus\r\n",
      "Keje\r\n"
     ]
    }
   ],
   "source": [
    "var people = new string[] { \"Jane\", \"Jean\", \"Grey\", \"Marcus\", \"Theophilus\", \"Keje\" };\n",
    "\n",
    "Console.WriteLine(\"people[0..4]\");\n",
    "\n",
    "foreach (var person in people[0..4]) //pierwszych 4, można zapisać również jako ..4\n",
    "{\n",
    "  Console.WriteLine(person);\n",
    "}\n",
    "\n",
    "Console.WriteLine(\"people[4..]\");\n",
    "\n",
    "foreach (var person in people[4..]) //4 i kolejny\n",
    "{\n",
    "  Console.WriteLine(person);\n",
    "}\n",
    "\n",
    "Console.WriteLine(\"people[^2..]\");\n",
    "\n",
    "foreach (var person in people[^2..]) //ostatnie 2\n",
    "{\n",
    "  Console.WriteLine(person);\n",
    "}"
   ]
  },
  {
   "cell_type": "markdown",
   "metadata": {},
   "source": [
    "\n",
    "\n",
    "\n",
    "## Struktura\n",
    "\n",
    "W języku C# można tworzyć również struktury. Jest to odpowiednik unii w C++. Pomimo małych różnic w składni języka ich użycie znacznie różni się od użycia klasy. Przede wszystkim w strukturze jest znacznie większa kontrola zapisu w pamięci przez co można łatwiej wykonywać na niej operacje binarne."
   ]
  },
  {
   "cell_type": "code",
   "execution_count": null,
   "metadata": {
    "collapsed": false,
    "dotnet_interactive": {
     "language": "csharp"
    },
    "pycharm": {
     "name": "#%%\n"
    }
   },
   "outputs": [],
   "source": [
    "public struct Data\n",
    "{\n",
    "   Int32 Field;\n",
    "   Int32 Field2;\n",
    "}"
   ]
  },
  {
   "cell_type": "markdown",
   "metadata": {
    "collapsed": false
   },
   "source": [
    "Różnice między klasami a strukturą:\n",
    "* inna konstrukcja - `class` i `struct`,\n",
    "* `reference type` i `value type`,\n",
    "* brak dziedziczenia w przypadku struktury,\n",
    "* struktura teoretycznie powinna zajmować nie więcej, niż 16 bajtów.\n",
    "\n",
    "Enumeracje to zgrupowane stałe. Każda taka stała posiada swój identyfikator oraz wartość."
   ]
  },
  {
   "cell_type": "code",
   "execution_count": null,
   "metadata": {
    "collapsed": false,
    "dotnet_interactive": {
     "language": "csharp"
    },
    "pycharm": {
     "name": "#%%\n"
    }
   },
   "outputs": [],
   "source": [
    "public enum PersonType { ptTeacher, ptStudent }"
   ]
  },
  {
   "cell_type": "markdown",
   "metadata": {
    "collapsed": false
   },
   "source": [
    "Nazwy (identyfikatory) muszą być unikalne w danej przestrzeni nazw. Dodatkowo enumeracje są domyślnie typem liczbowym.\n",
    "\n",
    "## Obsługa wyjątków\n",
    "\n",
    "Jedną z najważniejszych części programów, która decyduje o jego niezawodności jest poprawna obsługa błędów.\n",
    "Blok obsługi błędów wygląda następująco:"
   ]
  },
  {
   "cell_type": "code",
   "execution_count": null,
   "metadata": {
    "collapsed": false,
    "dotnet_interactive": {
     "language": "csharp"
    },
    "pycharm": {
     "name": "#%%\n"
    }
   },
   "outputs": [],
   "source": [
    "using System.Data.Common;\n",
    "\n",
    "try\n",
    "{\n",
    "   throw new Exception(\"Message\");\n",
    "}\n",
    "catch (DbException sqlEx)\n",
    "{\n",
    "   Console.WriteLine($\"Exception: {sqlEx.Message}\");\n",
    "}\n",
    "catch (Exception e)\n",
    "{\n",
    "   Console.WriteLine($\"Exception: {e.Message}\");\n",
    "}\n",
    "finally\n",
    "{}"
   ]
  },
  {
   "cell_type": "markdown",
   "metadata": {
    "collapsed": false
   },
   "source": [
    "Bloki występują w wielu kombinacjach: `try` `catch` oraz `try` `finally` lub oba `try` `catch` `finally`. Sekcja `finally` powoduje wykonanie instrukcji pomimo błędu. Jest ona wykonywana zawsze. Sekcja `catch` zawiera obsługę klasy wyjątku. Pierwotną klasą, z której wywodzą się wszystkie obiekty jest klasa `Exception`. Jednak bardziej szczegółowe klasy błędów zawierają bardziej szczegółowe informacje na temat błędu np. kod błędu SQL. Decyzja, gdzie należy przechwycić błąd jest bardzo trudna, gdyż wyjątek obsłużony w tej samej metodzie, w której wystąpi może doprowadzić do tego, że funkcja nadrzędna (wywołująca funkcję, której instrukcja wywołała błąd) nie będzie świadoma błędu. Z drugiej strony w przypadku, gdy funkcja w swoim ciele wywołuje 10 metod i któraś z nich zwróci błąd może to spowodować, że nie będzie znane źródło problemu."
   ]
  }
 ],
 "metadata": {
  "kernelspec": {
   "display_name": ".NET (C#)",
   "language": "C#",
   "name": ".net-csharp"
  },
  "language_info": {
   "file_extension": ".cs",
   "mimetype": "text/x-csharp",
   "name": "C#",
   "pygments_lexer": "csharp",
   "version": "8.0"
  }
 },
 "nbformat": 4,
 "nbformat_minor": 4
}
