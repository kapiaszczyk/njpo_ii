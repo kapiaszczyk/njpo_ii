{
 "cells": [
  {
   "cell_type": "markdown",
   "metadata": {
    "collapsed": false,
    "pycharm": {
     "name": "#%% md\n"
    }
   },
   "source": [
    "### Zadanie 1\n",
    "\n",
    "Napisz funkcję (najlepiej przedefiniować `ToString`), która dla zadanego wyrażenia w języku programowania C# zwróci łańcuch znaków w postaci ONP. Przykładowo:\n",
    "\n",
    "dla wyrażenia `x = a - b * c`, gdzie `a`, `b`, `c` to klasy typu `OnpExpression`, a `-`, `*` to operatory, funkcja `x.ToString()` zwróci \"a b - c *\" (brak priorytetów dla operacji i nawiasów).\n",
    "\n",
    "Klasa `OnpExpression` powinna przechowywać swoje wartości tak, aby uprościć metodzie `ToString` zwracanie wyniku."
   ]
  },
  {
   "cell_type": "code",
   "execution_count": 12,
   "metadata": {
    "dotnet_interactive": {
     "language": "csharp"
    },
    "polyglot_notebook": {
     "kernelName": "csharp"
    },
    "vscode": {
     "languageId": "csharp"
    }
   },
   "outputs": [
    {
     "name": "stdout",
     "output_type": "stream",
     "text": [
      "a b c * -\n"
     ]
    }
   ],
   "source": [
    "public abstract class OnpExpression {\n",
    "    public abstract string Interpret();\n",
    "\n",
    "    public static OnpExpression operator +(OnpExpression left, OnpExpression right) {\n",
    "        return new NonTerminalExpression(left, right, \"+\");\n",
    "    }\n",
    "\n",
    "    public static OnpExpression operator -(OnpExpression left, OnpExpression right) {\n",
    "        return new NonTerminalExpression(left, right, \"-\");\n",
    "    }\n",
    "\n",
    "    public static OnpExpression operator *(OnpExpression left, OnpExpression right) {\n",
    "        return new NonTerminalExpression(left, right, \"*\");\n",
    "    }\n",
    "\n",
    "    public static OnpExpression operator /(OnpExpression left, OnpExpression right) {\n",
    "        return new NonTerminalExpression(left, right, \"/\");\n",
    "    }\n",
    "\n",
    "    public override string ToString() {\n",
    "        return Interpret();\n",
    "    }\n",
    "\n",
    "}\n",
    "\n",
    "public class TerminalExpression : OnpExpression {\n",
    "     string Value;\n",
    "\n",
    "    public TerminalExpression(string value) {\n",
    "        Value = value;\n",
    "    }\n",
    "\n",
    "    public override string Interpret() {\n",
    "        return Value;\n",
    "    }\n",
    "\n",
    "    public override string ToString() {\n",
    "        return Value;\n",
    "    }\n",
    "}\n",
    "\n",
    "public class NonTerminalExpression : OnpExpression {\n",
    "    protected OnpExpression Left;\n",
    "    protected OnpExpression Right;\n",
    "    protected string Operator;\n",
    "\n",
    "    public NonTerminalExpression(OnpExpression left, OnpExpression right, string o) {\n",
    "        Left = left;\n",
    "        Right = right;\n",
    "        Operator = o;\n",
    "    }\n",
    "\n",
    "    public override string Interpret() {\n",
    "        return Left.Interpret() + \" \" + Right.Interpret() + \" \" + Operator;\n",
    "    }\n",
    "}\n",
    "\n",
    "TerminalExpression a = new TerminalExpression(\"a\");\n",
    "TerminalExpression b = new TerminalExpression(\"b\");\n",
    "TerminalExpression c = new TerminalExpression(\"c\");\n",
    "\n",
    "OnpExpression x = a - b * c;\n",
    "\n",
    "Console.WriteLine(x.ToString());"
   ]
  },
  {
   "cell_type": "markdown",
   "metadata": {},
   "source": [
    "\n",
    "### Zadanie 2\n",
    "\n",
    "Napisz operator dla `<` i `>`, który sprawdza, czy suma elementów listy jest większa czy mniejsza od drugiej listy. Przykładowo dla `a = [1,2,3,4]` i `b = [20,30]` `a < b` powinno zwrócić wartość `true`."
   ]
  },
  {
   "cell_type": "code",
   "execution_count": 5,
   "metadata": {
    "dotnet_interactive": {
     "language": "csharp"
    },
    "polyglot_notebook": {
     "kernelName": "csharp"
    },
    "vscode": {
     "languageId": "csharp"
    }
   },
   "outputs": [
    {
     "name": "stdout",
     "output_type": "stream",
     "text": [
      "False\n",
      "True\n"
     ]
    }
   ],
   "source": [
    "class CustomList<T> \n",
    "{\n",
    "\n",
    "    List<T> list = new List<T>();\n",
    "\n",
    "    public static bool operator <(CustomList<T> list1, CustomList<T> list2)\n",
    "    {\n",
    "        return (list1.GetSum() < list2.GetSum()) ? true : false;\n",
    "    }\n",
    "    public static bool operator >(CustomList<T> list1, CustomList<T> list2)\n",
    "    {\n",
    "        return (list1.GetSum() > list2.GetSum()) ? true : false;\n",
    "    }\n",
    "\n",
    "    public void Add(T item) { \n",
    "        list.Add(item);\n",
    "    }\n",
    "\n",
    "    public void Remove(T item) { \n",
    "        list.Remove(item);\n",
    "    }\n",
    "\n",
    "    public int Count() { \n",
    "        return list.Count;\n",
    "    }\n",
    "\n",
    "    public int GetSum() { \n",
    "        int sum = 0;\n",
    "        foreach (var item in list)\n",
    "        {\n",
    "            sum += Convert.ToInt32(item);\n",
    "        }\n",
    "        return sum;\n",
    "    }\n",
    "\n",
    "}\n",
    "\n",
    "\n",
    "CustomList<int> list1 = new CustomList<int>();\n",
    "CustomList<int> list2 = new CustomList<int>();\n",
    "\n",
    "list1.Add(1);\n",
    "list1.Add(2);\n",
    "\n",
    "list2.Add(3);\n",
    "list2.Add(4);\n",
    "\n",
    "Console.WriteLine(list1 > list2);\n",
    "Console.WriteLine(list1 < list2);\n"
   ]
  },
  {
   "cell_type": "markdown",
   "metadata": {},
   "source": [
    "\n",
    "\n",
    "### Zadanie 3\n",
    "\n",
    "Dana jest klasa `Student` przechowująca dane typu: numer indeksu, wiek, płeć, rok studiów, semestr; klasa `Degree` przechowująca dane: przedmiot, ocenę, rok zaliczenia, semestr. Używając *LINQ*. \n",
    "\n",
    "* Połącz dane z klasy `Student` i `Degree`.\n",
    "* Wyświetl studentów, których wiek jest większy, niż średnia dla studentów na roku.\n",
    "* Wyświetl studentów, których średnia ocen jest większa niż pozostałych studentów na roku.\n"
   ]
  },
  {
   "cell_type": "code",
   "execution_count": 8,
   "metadata": {
    "dotnet_interactive": {
     "language": "csharp"
    },
    "polyglot_notebook": {
     "kernelName": "csharp"
    },
    "vscode": {
     "languageId": "csharp"
    }
   },
   "outputs": [
    {
     "name": "stdout",
     "output_type": "stream",
     "text": [
      "{ IndexNumber = 1, Age = 20, Sex = Male, Subject = CS, Grade = 5, Year = 2024, Semester = 1 }\n",
      "{ IndexNumber = 1, Age = 20, Sex = Male, Subject = CS, Grade = 2, Year = 2024, Semester = 1 }\n",
      "{ IndexNumber = 2, Age = 21, Sex = Female, Subject = CS, Grade = 5, Year = 2024, Semester = 1 }\n",
      "{ IndexNumber = 2, Age = 21, Sex = Female, Subject = CS, Grade = 2, Year = 2024, Semester = 1 }\n",
      "{ IndexNumber = 2, Age = 21, Sex = Female }\n",
      "{ Year = 1, AverageAge = 20.5 }\n"
     ]
    }
   ],
   "source": [
    "class Student(int IndexNumber, int Age, string Sex, int Year, int Semester)\n",
    "{\n",
    "    public int IndexNumber { get; set; } = IndexNumber;\n",
    "    public int Age { get; set; } = Age;\n",
    "    public string Sex { get; set; } = Sex;\n",
    "    public int Year { get; set; } = Year;\n",
    "    public int Semester { get; set; } = Semester;\n",
    "}\n",
    "\n",
    "class Degree(string Subject, int Grade, int Year, int Semester)\n",
    "{\n",
    "    public string Subject { get; set; } = Subject;\n",
    "    public int Grade { get; set; } = Grade;\n",
    "    public int Year { get; set; } = Year;\n",
    "    public int Semester { get; set; } = Semester;\n",
    "}\n",
    "\n",
    "List<Student> students = new List<Student> {\n",
    "    new Student(1, 20, \"Male\", 1, 1),\n",
    "    new Student(2, 21, \"Female\", 1, 1),\n",
    "};\n",
    "\n",
    "List<Degree> degrees = new List<Degree> {\n",
    "    new Degree(\"CS\", 5, 2024, 1),\n",
    "    new Degree(\"CS\", 2, 2024, 1),\n",
    "};\n",
    "\n",
    "// Merge data from both lists\n",
    "var mergedData =        from student in students\n",
    "                        join degree in degrees\n",
    "                        // join on the only common field\n",
    "                        on new { student.Semester } equals new { degree.Semester }\n",
    "                        select new { student.IndexNumber, student.Age, student.Sex, degree.Subject, degree.Grade, degree.Year, degree.Semester };\n",
    "\n",
    "foreach (var item in mergedData)\n",
    "{\n",
    "    Console.WriteLine(item);\n",
    "}\n",
    "\n",
    "// * Wyświetl studentów, których wiek jest większy, niż średnia dla studentów na roku.\n",
    "var studentsWithAgeGreaterThanAvg = from student in students\n",
    "                                    // Calculating average (https://learn.microsoft.com/pl-pl/dotnet/api/system.linq.enumerable.average?view=net-8.0)\n",
    "                                    where student.Age > students.Average(student => student.Age)\n",
    "                                    select new { student.IndexNumber, student.Age, student.Sex };\n",
    "\n",
    "foreach (var item in studentsWithAgeGreaterThanAvg)\n",
    "{\n",
    "    Console.WriteLine(item);\n",
    "}\n",
    "\n",
    "// * Avareage age for students on year\n",
    "var studentsAvgAgeOnYear =  from student in students\n",
    "                            group student by student.Year into groupedByYear\n",
    "                            select new { Year = groupedByYear.Key, AverageAge = groupedByYear.Average(s => s.Age) };\n",
    "\n",
    "foreach (var item in studentsAvgAgeOnYear)\n",
    "{\n",
    "    Console.WriteLine(item);\n",
    "}\n",
    "\n",
    "\n",
    "// * Wyświetl studentów, których średnia ocen jest większa niż pozostałych studentów na roku.    \n",
    "var studentsWithHigherAvgGrade =    from student in students\n",
    "                                    join degree in degrees\n",
    "                                    on new { student.Year, student.Semester } equals new { degree.Year, degree.Semester }\n",
    "                                    group degree by new { student.Year, student.Semester } into groupedByYear\n",
    "                                    select new { groupedByYear.Key.Year, groupedByYear.Key.Semester, AverageGrade = groupedByYear.Average(grades => grades.Grade) };\n",
    "\n",
    "foreach (var item in studentsWithHigherAvgGrade)\n",
    "{\n",
    "    Console.WriteLine(item);\n",
    "}"
   ]
  }
 ],
 "metadata": {
  "kernelspec": {
   "display_name": ".NET (C#)",
   "language": "C#",
   "name": ".net-csharp"
  },
  "language_info": {
   "file_extension": ".cs",
   "mimetype": "text/x-csharp",
   "name": "C#",
   "pygments_lexer": "csharp",
   "version": "12.0"
  }
 },
 "nbformat": 4,
 "nbformat_minor": 4
}
