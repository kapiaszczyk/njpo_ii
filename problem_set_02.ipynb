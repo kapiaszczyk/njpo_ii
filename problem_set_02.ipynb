{
 "cells": [
  {
   "cell_type": "markdown",
   "metadata": {
    "collapsed": false,
    "pycharm": {
     "name": "#%% md\n"
    }
   },
   "source": [
    "### Zadanie 1\n",
    "\n",
    "Napisz funkcję (najlepiej przedefiniować `ToString`), która dla zadanego wyrażenia w języku programowania C# zwróci łańcuch znaków w postaci ONP. Przykładowo:\n",
    "\n",
    "dla wyrażenia `x = a - b * c`, gdzie `a`, `b`, `c` to klasy typu `OnpExpression`, a `-`, `*` to operatory, funkcja `x.ToString()` zwróci \"a b - c *\" (brak priorytetów dla operacji i nawiasów).\n",
    "\n",
    "Klasa `OnpExpression` powinna przechowywać swoje wartości tak, aby uprościć metodzie `ToString` zwracanie wyniku."
   ]
  },
  {
   "cell_type": "code",
   "execution_count": null,
   "metadata": {
    "dotnet_interactive": {
     "language": "csharp"
    },
    "polyglot_notebook": {
     "kernelName": "csharp"
    },
    "vscode": {
     "languageId": "polyglot-notebook"
    }
   },
   "outputs": [],
   "source": [
    "public abstract class OnpExpression {\n",
    "    public abstract string Interpret();\n",
    "\n",
    "    public static OnpExpression operator +(OnpExpression left, OnpExpression right) {\n",
    "        return new NonTerminalExpression(left, right, \"+\");\n",
    "    }\n",
    "\n",
    "    public static OnpExpression operator -(OnpExpression left, OnpExpression right) {\n",
    "        return new NonTerminalExpression(left, right, \"-\");\n",
    "    }\n",
    "\n",
    "    public static OnpExpression operator *(OnpExpression left, OnpExpression right) {\n",
    "        return new NonTerminalExpression(left, right, \"*\");\n",
    "    }\n",
    "\n",
    "    public static OnpExpression operator /(OnpExpression left, OnpExpression right) {\n",
    "        return new NonTerminalExpression(left, right, \"/\");\n",
    "    }\n",
    "\n",
    "    public override string ToString() {\n",
    "        return Interpret();\n",
    "    }\n",
    "\n",
    "}\n",
    "\n",
    "public class TerminalExpression : OnpExpression {\n",
    "     string Value;\n",
    "\n",
    "    public TerminalExpression(string value) {\n",
    "        Value = value;\n",
    "    }\n",
    "\n",
    "    public override string Interpret() {\n",
    "        return Value;\n",
    "    }\n",
    "\n",
    "    public override string ToString() {\n",
    "        return Value;\n",
    "    }\n",
    "}\n",
    "\n",
    "public class NonTerminalExpression : OnpExpression {\n",
    "    protected OnpExpression Left;\n",
    "    protected OnpExpression Right;\n",
    "    protected string Operator;\n",
    "\n",
    "    public NonTerminalExpression(OnpExpression left, OnpExpression right, string o) {\n",
    "        Left = left;\n",
    "        Right = right;\n",
    "        Operator = o;\n",
    "    }\n",
    "\n",
    "    public override string Interpret() {\n",
    "        return Left.Interpret() + \" \" + Right.Interpret() + \" \" + Operator;\n",
    "    }\n",
    "}\n",
    "\n",
    "TerminalExpression a = new TerminalExpression(\"a\");\n",
    "TerminalExpression b = new TerminalExpression(\"b\");\n",
    "TerminalExpression c = new TerminalExpression(\"c\");\n",
    "\n",
    "OnpExpression x = a - b * c;\n",
    "\n",
    "Console.WriteLine(x.ToString());"
   ]
  },
  {
   "cell_type": "markdown",
   "metadata": {},
   "source": [
    "\n",
    "### Zadanie 2\n",
    "\n",
    "Napisz operator dla `<` i `>`, który sprawdza, czy suma elementów listy jest większa czy mniejsza od drugiej listy. Przykładowo dla `a = [1,2,3,4]` i `b = [20,30]` `a < b` powinno zwrócić wartość `true`."
   ]
  },
  {
   "cell_type": "code",
   "execution_count": null,
   "metadata": {
    "dotnet_interactive": {
     "language": "csharp"
    },
    "polyglot_notebook": {
     "kernelName": "csharp"
    },
    "vscode": {
     "languageId": "polyglot-notebook"
    }
   },
   "outputs": [],
   "source": [
    "class CustomList<T> \n",
    "{\n",
    "\n",
    "    List<T> list = new List<T>();\n",
    "\n",
    "    public static bool operator <(CustomList<T> list1, CustomList<T> list2)\n",
    "    {\n",
    "        return (list1.GetSum() < list2.GetSum()) ? true : false;\n",
    "    }\n",
    "    public static bool operator >(CustomList<T> list1, CustomList<T> list2)\n",
    "    {\n",
    "        return (list1.GetSum() > list2.GetSum()) ? true : false;\n",
    "    }\n",
    "\n",
    "    public void Add(T item) { \n",
    "        list.Add(item);\n",
    "    }\n",
    "\n",
    "    public void Remove(T item) { \n",
    "        list.Remove(item);\n",
    "    }\n",
    "\n",
    "    public int Count() { \n",
    "        return list.Count;\n",
    "    }\n",
    "\n",
    "    public int GetSum() { \n",
    "        int sum = 0;\n",
    "        foreach (var item in list)\n",
    "        {\n",
    "            sum += Convert.ToInt32(item);\n",
    "        }\n",
    "        return sum;\n",
    "    }\n",
    "\n",
    "}\n",
    "\n",
    "CustomList<int> list1 = new CustomList<int>();\n",
    "CustomList<int> list2 = new CustomList<int>();\n",
    "\n",
    "list1.Add(1);\n",
    "list1.Add(2);\n",
    "\n",
    "list2.Add(3);\n",
    "list2.Add(4);\n",
    "\n",
    "Console.WriteLine(list1 > list2);\n",
    "Console.WriteLine(list1 < list2);\n"
   ]
  },
  {
   "cell_type": "markdown",
   "metadata": {},
   "source": [
    "\n",
    "\n",
    "### Zadanie 3\n",
    "\n",
    "Dana jest klasa `Student` przechowująca dane typu: numer indeksu, wiek, płeć, rok studiów, semestr; klasa `Degree` przechowująca dane: przedmiot, ocenę, rok zaliczenia, semestr. Używając *LINQ*. \n",
    "\n",
    "* Połącz dane z klasy `Student` i `Degree`.\n",
    "* Wyświetl studentów, których wiek jest większy, niż średnia dla studentów na roku.\n",
    "* Wyświetl studentów, których średnia ocen jest większa niż pozostałych studentów na roku.\n"
   ]
  },
  {
   "cell_type": "code",
   "execution_count": null,
   "metadata": {
    "dotnet_interactive": {
     "language": "csharp"
    },
    "polyglot_notebook": {
     "kernelName": "csharp"
    },
    "vscode": {
     "languageId": "polyglot-notebook"
    }
   },
   "outputs": [],
   "source": [
    "class Student()\n",
    "{\n",
    "    public int IndexNumber { get; set; }\n",
    "    public int Age { get; set; }\n",
    "    public string Sex { get; set; }\n",
    "    public int Year { get; set; }\n",
    "    public int Semester { get; set; }\n",
    "}\n",
    "\n",
    "class Degree()\n",
    "{\n",
    "    public string Subject { get; set; }\n",
    "    public int Grade { get; set; }\n",
    "    public int GraduationYear { get; set; } \n",
    "    public int Semester { get; set; }\n",
    "}\n",
    "\n",
    "List<Student> students = new List<Student> {\n",
    "    new Student() { IndexNumber = 1, Age = 18, Sex = \"M\", Year = 1, Semester = 1 },\n",
    "    new Student() { IndexNumber = 2, Age = 29, Sex = \"F\", Year = 1, Semester = 1 },\n",
    "    new Student() { IndexNumber = 3, Age = 18, Sex = \"M\", Year = 1, Semester = 1 }\n",
    "};\n",
    "\n",
    "List<Degree> degrees = new List<Degree> {\n",
    "    new Degree() { Subject = \"CS\", Grade = 5, GraduationYear = 2025, Semester = 1 },\n",
    "    new Degree() { Subject = \"CS\", Grade = 4, GraduationYear = 2025, Semester = 2 },\n",
    "};\n",
    "\n",
    "// Połącz dane z klasy `Student` i `Degree`.\n",
    "var mergedData =    from student in students\n",
    "                    join degree in degrees\n",
    "                    // join on the only common field\n",
    "                    on new { student.Semester } equals new { degree.Semester }\n",
    "                    select new { student.IndexNumber, student.Age, student.Sex, degree.Subject, degree.Grade, degree.GraduationYear, degree.Semester };\n",
    "\n",
    "// * Wyświetl studentów, których wiek jest większy, niż średnia dla studentów na roku.\n",
    "var averageAge = from student in students\n",
    "                 group student by student.Year into g\n",
    "                 select new { Year = g.Key, AverageAge = g.Average(student => student.Age) };\n",
    "\n",
    "// * Wyświetl studentów, których średnia ocen jest większa niż pozostałych studentów na roku.\n",
    "var averageGrade = from degree in degrees\n",
    "                   group degree by degree.Semester into g\n",
    "                   select new { Semester = g.Key, AverageGrade = g.Average(degree => degree.Grade) };"
   ]
  }
 ],
 "metadata": {
  "kernelspec": {
   "display_name": ".NET (C#)",
   "language": "C#",
   "name": ".net-csharp"
  },
  "language_info": {
   "file_extension": ".cs",
   "mimetype": "text/x-csharp",
   "name": "C#",
   "pygments_lexer": "csharp",
   "version": "12.0"
  }
 },
 "nbformat": 4,
 "nbformat_minor": 4
}
