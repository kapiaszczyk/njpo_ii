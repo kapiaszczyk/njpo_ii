{
 "cells": [
  {
   "cell_type": "markdown",
   "metadata": {
    "collapsed": false,
    "pycharm": {
     "name": "#%% md\n"
    }
   },
   "source": [
    "### Zadanie 1\n",
    "\n",
    "Napisz funkcję (najlepiej przedefiniować `ToString`), która dla zadanego wyrażenia w języku programowania C# zwróci łańcuch znaków w postaci ONP. Przykładowo:\n",
    "\n",
    "dla wyrażenia `x = a - b * c`, gdzie `a`, `b`, `c` to klasy typu `OnpExpression`, a `-`, `*` to operatory, funkcja `x.ToString()` zwróci \"a b - c *\" (brak priorytetów dla operacji i nawiasów).\n",
    "\n",
    "Klasa `OnpExpression` powinna przechowywać swoje wartości tak, aby uprościć metodzie `ToString` zwracanie wyniku."
   ]
  },
  {
   "cell_type": "code",
   "execution_count": 17,
   "metadata": {
    "dotnet_interactive": {
     "language": "csharp"
    },
    "polyglot_notebook": {
     "kernelName": "csharp"
    },
    "vscode": {
     "languageId": "polyglot-notebook"
    }
   },
   "outputs": [
    {
     "name": "stdout",
     "output_type": "stream",
     "text": [
      "a b c * -\r\n"
     ]
    }
   ],
   "source": [
    "using System;\n",
    "\n",
    "public class OnpExpression\n",
    "{\n",
    "    public string Value { get; }\n",
    "\n",
    "    public OnpExpression(string value)\n",
    "    {\n",
    "        Value = value;\n",
    "    }\n",
    "\n",
    "    public static OnpExpression operator +(OnpExpression first, OnpExpression second)\n",
    "    {\n",
    "        if(!char.IsLetterOrDigit(first.Value.ToCharArray()[0]) || !char.IsLetterOrDigit(second.Value.ToCharArray()[0])) {\n",
    "            return new OnpExpression($\"{first} + {second} \");\n",
    "        }\n",
    "        return new OnpExpression($\"{first} {second} +\");\n",
    "    }\n",
    "\n",
    "    public static OnpExpression operator -(OnpExpression first, OnpExpression second)\n",
    "    {\n",
    "        if(!char.IsLetterOrDigit(first.Value.ToCharArray()[0]) || !char.IsLetterOrDigit(second.Value.ToCharArray()[0])) {\n",
    "            return new OnpExpression($\"{first} - {second} \");\n",
    "        }\n",
    "        return new OnpExpression($\"{first} {second} -\");\n",
    "    }\n",
    "\n",
    "    public static OnpExpression operator *(OnpExpression first, OnpExpression second)\n",
    "    {\n",
    "        if(!char.IsLetterOrDigit(first.Value.ToCharArray()[0])) {\n",
    "            return new OnpExpression($\"{first} * {second} \");\n",
    "        }\n",
    "        return new OnpExpression($\"{first} {second} *\");\n",
    "    }\n",
    "\n",
    "    public static OnpExpression operator /(OnpExpression first, OnpExpression second)\n",
    "    {\n",
    "        return new OnpExpression($\"{first} {second} /\");\n",
    "    }\n",
    "\n",
    "    public override string ToString()\n",
    "    {\n",
    "        return Value;\n",
    "    }\n",
    "}\n",
    "\n",
    "OnpExpression a = new OnpExpression(\"a\");\n",
    "OnpExpression b = new OnpExpression(\"b\");\n",
    "OnpExpression c = new OnpExpression(\"c\");\n",
    "\n",
    "OnpExpression result = a - b * c;\n",
    "\n",
    "Console.WriteLine(result.ToString());"
   ]
  },
  {
   "cell_type": "markdown",
   "metadata": {},
   "source": [
    "\n",
    "### Zadanie 2\n",
    "\n",
    "Napisz operator dla `<` i `>`, który sprawdza, czy suma elementów listy jest większa czy mniejsza od drugiej listy. Przykładowo dla `a = [1,2,3,4]` i `b = [20,30]` `a < b` powinno zwrócić wartość `true`."
   ]
  },
  {
   "cell_type": "code",
   "execution_count": null,
   "metadata": {
    "dotnet_interactive": {
     "language": "csharp"
    },
    "polyglot_notebook": {
     "kernelName": "csharp"
    },
    "vscode": {
     "languageId": "polyglot-notebook"
    }
   },
   "outputs": [],
   "source": [
    "class CustomList<T> \n",
    "{\n",
    "\n",
    "    List<T> list = new List<T>();\n",
    "\n",
    "    public static bool operator <(CustomList<T> list1, CustomList<T> list2)\n",
    "    {\n",
    "        return (list1.GetSum() < list2.GetSum()) ? true : false;\n",
    "    }\n",
    "    public static bool operator >(CustomList<T> list1, CustomList<T> list2)\n",
    "    {\n",
    "        return (list1.GetSum() > list2.GetSum()) ? true : false;\n",
    "    }\n",
    "\n",
    "    public void Add(T item) { \n",
    "        list.Add(item);\n",
    "    }\n",
    "\n",
    "    public void Remove(T item) { \n",
    "        list.Remove(item);\n",
    "    }\n",
    "\n",
    "    public int Count() { \n",
    "        return list.Count;\n",
    "    }\n",
    "\n",
    "    public int GetSum() { \n",
    "        int sum = 0;\n",
    "        foreach (var item in list)\n",
    "        {\n",
    "            sum += Convert.ToInt32(item);\n",
    "        }\n",
    "        return sum;\n",
    "    }\n",
    "\n",
    "}\n",
    "\n",
    "class Program\n",
    "{\n",
    "    static void Main(string[] args)\n",
    "    {\n",
    "\n",
    "        CustomList<int> list1 = new CustomList<int>();\n",
    "        CustomList<int> list2 = new CustomList<int>();\n",
    "\n",
    "        list1.Add(1);\n",
    "        list1.Add(2);\n",
    "\n",
    "        list2.Add(3);\n",
    "        list2.Add(4);\n",
    "\n",
    "        Console.WriteLine(list1 > list2);\n",
    "        Console.WriteLine(list1 < list2);\n",
    "\n",
    "    }\n",
    "}"
   ]
  },
  {
   "cell_type": "markdown",
   "metadata": {},
   "source": [
    "\n",
    "\n",
    "### Zadanie 3\n",
    "\n",
    "Dana jest klasa `Student` przechowująca dane typu: numer indeksu, wiek, płeć, rok studiów, semestr; klasa `Degree` przechowująca dane: przedmiot, ocenę, rok zaliczenia, semestr. Używając *LINQ*. \n",
    "\n",
    "* Połącz dane z klasy `Student` i `Degree`.\n",
    "* Wyświetl studentów, których wiek jest większy, niż średnia dla studentów na roku.\n",
    "* Wyświetl studentów, których średnia ocen jest większa niż pozostałych studentów na roku.\n"
   ]
  },
  {
   "cell_type": "code",
   "execution_count": 8,
   "metadata": {
    "dotnet_interactive": {
     "language": "csharp"
    },
    "polyglot_notebook": {
     "kernelName": "csharp"
    },
    "vscode": {
     "languageId": "polyglot-notebook"
    }
   },
   "outputs": [
    {
     "name": "stdout",
     "output_type": "stream",
     "text": [
      "\n",
      "Merged data:\n",
      "{ IndexNumber = 1, Age = 20, Sex = M, Subject = CS, Grade = 5, Year = 2024, Semester = 1 }\n",
      "{ IndexNumber = 2, Age = 21, Sex = M, Subject = CS, Grade = 5, Year = 2024, Semester = 1 }\n",
      "{ IndexNumber = 3, Age = 22, Sex = M, Subject = CS, Grade = 2, Year = 2023, Semester = 5 }\n",
      "{ IndexNumber = 4, Age = 28, Sex = F, Subject = CS, Grade = 2, Year = 2022, Semester = 4 }\n",
      "\n",
      "Students with age greater than average:\n",
      "{ Year = 1, AverageAge = 21 }\n",
      "{ Year = 2, AverageAge = 28 }\n",
      "{ IndexNumber = 4, Age = 28, Sex = F }\n",
      "\n",
      "Students with higher than average grade:\n"
     ]
    }
   ],
   "source": [
    "class Student(int IndexNumber, int Age, string Sex, int Year, int Semester)\n",
    "{\n",
    "    public int IndexNumber { get; set; } = IndexNumber;\n",
    "    public int Age { get; set; } = Age;\n",
    "    public string Sex { get; set; } = Sex;\n",
    "    public int Year { get; set; } = Year;\n",
    "    public int Semester { get; set; } = Semester;\n",
    "}\n",
    "\n",
    "class Degree(string Subject, int Grade, int Year, int Semester)\n",
    "{\n",
    "    public string Subject { get; set; } = Subject;\n",
    "    public int Grade { get; set; } = Grade;\n",
    "    public int Year { get; set; } = Year;\n",
    "    public int Semester { get; set; } = Semester;\n",
    "}\n",
    "\n",
    "\n",
    "// Count average age for students \n",
    "\n",
    "List<Student> students = new List<Student> {\n",
    "    new Student(1, 20, \"M\", 1, 1),\n",
    "    new Student(2, 21, \"M\", 1, 1),\n",
    "    new Student(3, 22, \"M\", 1, 5),\n",
    "    new Student(4, 28, \"F\", 2, 4)\n",
    "};\n",
    "\n",
    "List<Degree> degrees = new List<Degree> {\n",
    "    new Degree(\"CS\", 5, 2024, 1),\n",
    "    new Degree(\"CS\", 2, 2023, 5),\n",
    "    new Degree(\"CS\", 2, 2022, 4)\n",
    "};\n",
    "\n",
    "// Merge data from both lists\n",
    "var mergedData = from student in students\n",
    "                        join degree in degrees\n",
    "                        on new { student.Semester } equals new { degree.Semester }\n",
    "                        select new { student.IndexNumber, student.Age, student.Sex, degree.Subject, degree.Grade, degree.Year, degree.Semester };\n",
    "\n",
    "// * Wyświetl studentów, których wiek jest większy, niż średnia dla studentów na roku.\n",
    "var studentsWithAgeGreaterThanAvg = from student in students\n",
    "                                    where student.Age > students.Average(s => s.Age)\n",
    "                                    select new { student.IndexNumber, student.Age, student.Sex };\n",
    "\n",
    "// * Avareage age for students on year\n",
    "var studentsAvgAgeOnYear = from student in students\n",
    "                            group student by student.Year into g\n",
    "                            select new { Year = g.Key, AverageAge = g.Average(s => s.Age) };\n",
    "\n",
    "\n",
    "// * Wyświetl studentów, których średnia ocen jest większa niż pozostałych studentów na roku.    \n",
    "var studentsWithHigherAvgGrade = from student in students\n",
    "                                    join degree in degrees\n",
    "                                    on new { student.Year, student.Semester } equals new { degree.Year, degree.Semester }\n",
    "                                    group degree by new { student.Year, student.Semester } into g\n",
    "                                    select new { g.Key.Year, g.Key.Semester, AverageGrade = g.Average(d => d.Grade) };\n",
    "\n",
    "\n",
    "// Act\n",
    "// Print merged data\n",
    "Console.WriteLine();\n",
    "Console.WriteLine(\"Merged data:\");\n",
    "foreach (var item in mergedData)\n",
    "{\n",
    "    Console.WriteLine(item);\n",
    "}\n",
    "\n",
    "// Print students with age greater than average\n",
    "Console.WriteLine();\n",
    "Console.WriteLine(\"Average age per year\");\n",
    "foreach (var item in studentsAvgAgeOnYear)\n",
    "{\n",
    "    Console.WriteLine(item);\n",
    "}\n",
    "Console.WriteLine(\"Students with age greater than average:\");\n",
    "foreach (var item in studentsWithAgeGreaterThanAvg)\n",
    "{\n",
    "    Console.WriteLine(item);\n",
    "}\n",
    "\n",
    "// Print students with higher average grade\n",
    "Console.WriteLine();\n",
    "Console.WriteLine(\"Students with higher than average grade:\");\n",
    "foreach (var item in studentsWithHigherAvgGrade)\n",
    "{\n",
    "    Console.WriteLine(item);\n",
    "}\n",
    "\n"
   ]
  }
 ],
 "metadata": {
  "kernelspec": {
   "display_name": ".NET (C#)",
   "language": "C#",
   "name": ".net-csharp"
  },
  "language_info": {
   "file_extension": ".cs",
   "mimetype": "text/x-csharp",
   "name": "C#",
   "pygments_lexer": "csharp",
   "version": "8.0"
  }
 },
 "nbformat": 4,
 "nbformat_minor": 4
}
